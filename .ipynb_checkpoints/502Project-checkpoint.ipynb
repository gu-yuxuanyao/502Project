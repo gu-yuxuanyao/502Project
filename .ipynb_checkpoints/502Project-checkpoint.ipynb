{
 "cells": [
  {
   "cell_type": "code",
   "execution_count": null,
   "metadata": {},
   "outputs": [],
   "source": [
    "# Course: Massive Data Fundamentals 502\n",
    "# Authors: Zihao Zhou(zz267), Guiming Xu(gx26), Kuiyu Zhu(kz175), Yuxuan Yao(yy560)\n",
    "# Dataset: Global Surface Summary of Day: https://registry.opendata.aws/noaa-gsod/"
   ]
  },
  {
   "cell_type": "code",
   "execution_count": null,
   "metadata": {},
   "outputs": [],
   "source": [
    "import numpy as np\n",
    "from pyspark import SparkConf\n",
    "from pyspark import SparkContext"
   ]
  }
 ],
 "metadata": {
  "kernelspec": {
   "display_name": "Python 3",
   "language": "python",
   "name": "python3"
  },
  "language_info": {
   "codemirror_mode": {
    "name": "ipython",
    "version": 3
   },
   "file_extension": ".py",
   "mimetype": "text/x-python",
   "name": "python",
   "nbconvert_exporter": "python",
   "pygments_lexer": "ipython3",
   "version": "3.7.6"
  }
 },
 "nbformat": 4,
 "nbformat_minor": 4
}
