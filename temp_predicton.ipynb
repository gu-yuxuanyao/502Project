{
 "cells": [
  {
   "cell_type": "code",
   "execution_count": 1,
   "metadata": {},
   "outputs": [],
   "source": [
    "import findspark\n",
    "findspark.init()"
   ]
  },
  {
   "cell_type": "code",
   "execution_count": 2,
   "metadata": {},
   "outputs": [],
   "source": [
    "from pyspark.sql import SparkSession\n",
    "spark = SparkSession.builder \\\n",
    "     .appName(\"Test SparkSession\") \\\n",
    "     .getOrCreate()"
   ]
  },
  {
   "cell_type": "code",
   "execution_count": 3,
   "metadata": {},
   "outputs": [
    {
     "data": {
      "text/html": [
       "\n",
       "            <div>\n",
       "                <p><b>SparkSession - in-memory</b></p>\n",
       "                \n",
       "        <div>\n",
       "            <p><b>SparkContext</b></p>\n",
       "\n",
       "            <p><a href=\"http://ip-172-31-7-44.ec2.internal:4040\">Spark UI</a></p>\n",
       "\n",
       "            <dl>\n",
       "              <dt>Version</dt>\n",
       "                <dd><code>v2.4.4</code></dd>\n",
       "              <dt>Master</dt>\n",
       "                <dd><code>yarn</code></dd>\n",
       "              <dt>AppName</dt>\n",
       "                <dd><code>Test SparkSession</code></dd>\n",
       "            </dl>\n",
       "        </div>\n",
       "        \n",
       "            </div>\n",
       "        "
      ],
      "text/plain": [
       "<pyspark.sql.session.SparkSession at 0x7f7fbc071390>"
      ]
     },
     "execution_count": 3,
     "metadata": {},
     "output_type": "execute_result"
    }
   ],
   "source": [
    "spark"
   ]
  },
  {
   "cell_type": "markdown",
   "metadata": {},
   "source": [
    "## Data Preprocessing"
   ]
  },
  {
   "cell_type": "code",
   "execution_count": 4,
   "metadata": {},
   "outputs": [
    {
     "name": "stdout",
     "output_type": "stream",
     "text": [
      "CPU times: user 105 ms, sys: 16.1 ms, total: 121 ms\n",
      "Wall time: 17min 54s\n"
     ]
    }
   ],
   "source": [
    "%%time\n",
    "df = spark.read.option(\"header\", \"true\").csv(\"s3://aws-gsod/*/*.csv\")"
   ]
  },
  {
   "cell_type": "code",
   "execution_count": 5,
   "metadata": {},
   "outputs": [
    {
     "data": {
      "text/plain": [
       "DataFrame[ID: string, USAF: string, WBAN: string, Elevation: string, Country_Code: string, Latitude: string, Longitude: string, Date: string, Year: string, Month: string, Day: string, Mean_Temp: string, Mean_Temp_Count: string, Mean_Dewpoint: string, Mean_Dewpoint_Count: string, Mean_Sea_Level_Pressure: string, Mean_Sea_Level_Pressure_Count: string, Mean_Station_Pressure: string, Mean_Station_Pressure_Count: string, Mean_Visibility: string, Mean_Visibility_Count: string, Mean_Windspeed: string, Mean_Windspeed_Count: string, Max_Windspeed: string, Max_Gust: string, Max_Temp: string, Max_Temp_Quality_Flag: string, Min_Temp: string, Min_Temp_Quality_Flag: string, Precipitation: string, Precip_Flag: string, Snow_Depth: string, Fog: string, Rain_or_Drizzle: string, Snow_or_Ice: string, Hail: string, Thunder: string, Tornado: string]"
      ]
     },
     "execution_count": 5,
     "metadata": {},
     "output_type": "execute_result"
    }
   ],
   "source": [
    "df.cache()"
   ]
  },
  {
   "cell_type": "code",
   "execution_count": 6,
   "metadata": {},
   "outputs": [
    {
     "name": "stdout",
     "output_type": "stream",
     "text": [
      "+------------+------+-----+---------+------------+--------+---------+----------+----+-----+---+---------+---------------+-------------+-------------------+-----------------------+-----------------------------+---------------------+---------------------------+---------------+---------------------+--------------+--------------------+-------------+--------+--------+---------------------+--------+---------------------+-------------+-----------+----------+---+---------------+-----------+----+-------+-------+\n",
      "|          ID|  USAF| WBAN|Elevation|Country_Code|Latitude|Longitude|      Date|Year|Month|Day|Mean_Temp|Mean_Temp_Count|Mean_Dewpoint|Mean_Dewpoint_Count|Mean_Sea_Level_Pressure|Mean_Sea_Level_Pressure_Count|Mean_Station_Pressure|Mean_Station_Pressure_Count|Mean_Visibility|Mean_Visibility_Count|Mean_Windspeed|Mean_Windspeed_Count|Max_Windspeed|Max_Gust|Max_Temp|Max_Temp_Quality_Flag|Min_Temp|Min_Temp_Quality_Flag|Precipitation|Precip_Flag|Snow_Depth|Fog|Rain_or_Drizzle|Snow_or_Ice|Hail|Thunder|Tornado|\n",
      "+------------+------+-----+---------+------------+--------+---------+----------+----+-----+---+---------+---------------+-------------+-------------------+-----------------------+-----------------------------+---------------------+---------------------------+---------------+---------------------+--------------+--------------------+-------------+--------+--------+---------------------+--------+---------------------+-------------+-----------+----------+---+---------------+-----------+----+-------+-------+\n",
      "|719250-99999|719250|99999|     27.4|          CA|  69.108| -105.138|1992-01-01|1992|   01| 01|     -2.9|             24|         -8.8|                 24|                  995.4|                           24|                991.8|                         24|            6.5|                   24|          17.9|                  24|         25.1|    28.0|     8.6|                    0|   -16.6|                    0|         0.03|          G|      12.6|  1|              0|          1|   0|      0|      0|\n",
      "|719250-99999|719250|99999|     27.4|          CA|  69.108| -105.138|1992-01-02|1992|   01| 02|    -16.2|             23|        -23.9|                 23|                 1000.3|                           23|                996.5|                         23|            7.9|                   23|          16.1|                  23|         25.1|    28.0|    -0.6|                    0|   -23.8|                    1|         0.02|          G|      12.6|  1|              0|          1|   0|      0|      0|\n",
      "|719250-99999|719250|99999|     27.4|          CA|  69.108| -105.138|1992-01-03|1992|   01| 03|    -18.1|             24|        -25.7|                 24|                 1000.8|                           24|                997.1|                         24|            9.8|                   24|          14.0|                  24|         22.9|    26.0|   -11.0|                    1|   -25.1|                    0|         0.00|          G|      12.6|  1|              0|          0|   0|      0|      0|\n",
      "|719250-99999|719250|99999|     27.4|          CA|  69.108| -105.138|1992-01-04|1992|   01| 04|    -11.1|             24|        -18.3|                 24|                  997.5|                           24|                993.8|                         24|            0.9|                   24|          22.3|                  24|         29.9|    35.9|    -6.0|                    1|   -23.8|                    0|         0.07|          G|      13.4|  1|              0|          1|   0|      0|      0|\n",
      "|719250-99999|719250|99999|     27.4|          CA|  69.108| -105.138|1992-01-05|1992|   01| 05|    -28.2|             23|        -36.4|                 23|                 1014.9|                           23|               1011.1|                         23|            4.7|                   23|          18.8|                  23|         28.0|    35.9|    -6.5|                    0|   -32.8|                    1|         0.03|          G|      12.6|  1|              0|          0|   0|      0|      0|\n",
      "+------------+------+-----+---------+------------+--------+---------+----------+----+-----+---+---------+---------------+-------------+-------------------+-----------------------+-----------------------------+---------------------+---------------------------+---------------+---------------------+--------------+--------------------+-------------+--------+--------+---------------------+--------+---------------------+-------------+-----------+----------+---+---------------+-----------+----+-------+-------+\n",
      "only showing top 5 rows\n",
      "\n"
     ]
    }
   ],
   "source": [
    "df.show(5)"
   ]
  },
  {
   "cell_type": "code",
   "execution_count": 7,
   "metadata": {},
   "outputs": [
    {
     "name": "stdout",
     "output_type": "stream",
     "text": [
      "root\n",
      " |-- ID: string (nullable = true)\n",
      " |-- USAF: string (nullable = true)\n",
      " |-- WBAN: string (nullable = true)\n",
      " |-- Elevation: string (nullable = true)\n",
      " |-- Country_Code: string (nullable = true)\n",
      " |-- Latitude: string (nullable = true)\n",
      " |-- Longitude: string (nullable = true)\n",
      " |-- Date: string (nullable = true)\n",
      " |-- Year: string (nullable = true)\n",
      " |-- Month: string (nullable = true)\n",
      " |-- Day: string (nullable = true)\n",
      " |-- Mean_Temp: string (nullable = true)\n",
      " |-- Mean_Temp_Count: string (nullable = true)\n",
      " |-- Mean_Dewpoint: string (nullable = true)\n",
      " |-- Mean_Dewpoint_Count: string (nullable = true)\n",
      " |-- Mean_Sea_Level_Pressure: string (nullable = true)\n",
      " |-- Mean_Sea_Level_Pressure_Count: string (nullable = true)\n",
      " |-- Mean_Station_Pressure: string (nullable = true)\n",
      " |-- Mean_Station_Pressure_Count: string (nullable = true)\n",
      " |-- Mean_Visibility: string (nullable = true)\n",
      " |-- Mean_Visibility_Count: string (nullable = true)\n",
      " |-- Mean_Windspeed: string (nullable = true)\n",
      " |-- Mean_Windspeed_Count: string (nullable = true)\n",
      " |-- Max_Windspeed: string (nullable = true)\n",
      " |-- Max_Gust: string (nullable = true)\n",
      " |-- Max_Temp: string (nullable = true)\n",
      " |-- Max_Temp_Quality_Flag: string (nullable = true)\n",
      " |-- Min_Temp: string (nullable = true)\n",
      " |-- Min_Temp_Quality_Flag: string (nullable = true)\n",
      " |-- Precipitation: string (nullable = true)\n",
      " |-- Precip_Flag: string (nullable = true)\n",
      " |-- Snow_Depth: string (nullable = true)\n",
      " |-- Fog: string (nullable = true)\n",
      " |-- Rain_or_Drizzle: string (nullable = true)\n",
      " |-- Snow_or_Ice: string (nullable = true)\n",
      " |-- Hail: string (nullable = true)\n",
      " |-- Thunder: string (nullable = true)\n",
      " |-- Tornado: string (nullable = true)\n",
      "\n"
     ]
    }
   ],
   "source": [
    "df.printSchema()"
   ]
  },
  {
   "cell_type": "code",
   "execution_count": 8,
   "metadata": {},
   "outputs": [],
   "source": [
    "from pyspark.sql import functions\n",
    "df = df.select(*(functions.col(col).cast(\"float\").alias(col) for col in df.columns))"
   ]
  },
  {
   "cell_type": "code",
   "execution_count": 9,
   "metadata": {},
   "outputs": [],
   "source": [
    "cols = ['Elevation','Latitude', 'Longitude', 'Month', 'Mean_Temp', 'Mean_Dewpoint', 'Mean_Sea_Level_Pressure', \n",
    "        'Mean_Station_Pressure', 'Mean_Visibility', 'Mean_Windspeed', 'Precipitation']\n",
    "df2 = df.select(*cols)"
   ]
  },
  {
   "cell_type": "code",
   "execution_count": 10,
   "metadata": {},
   "outputs": [
    {
     "name": "stdout",
     "output_type": "stream",
     "text": [
      "root\n",
      " |-- Elevation: float (nullable = true)\n",
      " |-- Latitude: float (nullable = true)\n",
      " |-- Longitude: float (nullable = true)\n",
      " |-- Month: float (nullable = true)\n",
      " |-- Mean_Temp: float (nullable = true)\n",
      " |-- Mean_Dewpoint: float (nullable = true)\n",
      " |-- Mean_Sea_Level_Pressure: float (nullable = true)\n",
      " |-- Mean_Station_Pressure: float (nullable = true)\n",
      " |-- Mean_Visibility: float (nullable = true)\n",
      " |-- Mean_Windspeed: float (nullable = true)\n",
      " |-- Precipitation: float (nullable = true)\n",
      "\n"
     ]
    }
   ],
   "source": [
    "df2.printSchema()"
   ]
  },
  {
   "cell_type": "code",
   "execution_count": 11,
   "metadata": {},
   "outputs": [],
   "source": [
    "df2 = df2.na.drop().cache()"
   ]
  },
  {
   "cell_type": "markdown",
   "metadata": {},
   "source": [
    "## LASSO Regression"
   ]
  },
  {
   "cell_type": "code",
   "execution_count": 12,
   "metadata": {},
   "outputs": [],
   "source": [
    "from pyspark.ml.feature import VectorAssembler, StandardScaler\n",
    "from pyspark.ml.regression import LinearRegression\n",
    "from pyspark.ml.evaluation import RegressionEvaluator\n",
    "from pyspark.ml import Pipeline, Model"
   ]
  },
  {
   "cell_type": "code",
   "execution_count": 13,
   "metadata": {},
   "outputs": [],
   "source": [
    "features = ['Elevation', 'Latitude', 'Longitude', 'Month', 'Mean_Dewpoint', 'Mean_Sea_Level_Pressure', \n",
    "            'Mean_Station_Pressure', 'Mean_Visibility', 'Mean_Windspeed', 'Precipitation']\n",
    "assembler = VectorAssembler(inputCols=features, outputCol='features')"
   ]
  },
  {
   "cell_type": "code",
   "execution_count": 20,
   "metadata": {},
   "outputs": [],
   "source": [
    "standardizer = StandardScaler(inputCol=\"features\", outputCol=\"scaledFeatures\")"
   ]
  },
  {
   "cell_type": "code",
   "execution_count": 26,
   "metadata": {},
   "outputs": [],
   "source": [
    "pipeline = Pipeline(stages = [assembler, standardizer])\n",
    "df3 = pipeline.fit(df2).transform(df2)"
   ]
  },
  {
   "cell_type": "code",
   "execution_count": 28,
   "metadata": {},
   "outputs": [],
   "source": [
    "train, test = df3.randomSplit([0.8, 0.2])"
   ]
  },
  {
   "cell_type": "code",
   "execution_count": 29,
   "metadata": {},
   "outputs": [],
   "source": [
    "LR = LinearRegression(featuresCol='features', labelCol='Mean_Temp', regParam=0.5, elasticNetParam=1)\n",
    "LR_model = LR.fit(train)"
   ]
  },
  {
   "cell_type": "code",
   "execution_count": 30,
   "metadata": {},
   "outputs": [
    {
     "data": {
      "text/plain": [
       "DenseVector([0.0051, -0.0591, 0.0, 0.0, 0.9464, -0.066, 0.0, 0.1136, 0.0, -2.3775])"
      ]
     },
     "execution_count": 30,
     "metadata": {},
     "output_type": "execute_result"
    }
   ],
   "source": [
    "LR_model.coefficients"
   ]
  },
  {
   "cell_type": "code",
   "execution_count": 31,
   "metadata": {},
   "outputs": [
    {
     "data": {
      "text/plain": [
       "['Elevation',\n",
       " 'Latitude',\n",
       " 'Mean_Dewpoint',\n",
       " 'Mean_Sea_Level_Pressure',\n",
       " 'Mean_Visibility',\n",
       " 'Precipitation']"
      ]
     },
     "execution_count": 31,
     "metadata": {},
     "output_type": "execute_result"
    }
   ],
   "source": [
    "import numpy as np\n",
    "[features[i] for i in np.nonzero(LR_model.coefficients)[0]]"
   ]
  },
  {
   "cell_type": "code",
   "execution_count": 32,
   "metadata": {},
   "outputs": [],
   "source": [
    "predictions = LR_model.transform(test)"
   ]
  },
  {
   "cell_type": "code",
   "execution_count": 33,
   "metadata": {},
   "outputs": [],
   "source": [
    "evaluator_LR = RegressionEvaluator(labelCol='Mean_Temp')"
   ]
  },
  {
   "cell_type": "code",
   "execution_count": 34,
   "metadata": {},
   "outputs": [
    {
     "data": {
      "text/plain": [
       "0.8739024059654438"
      ]
     },
     "execution_count": 34,
     "metadata": {},
     "output_type": "execute_result"
    }
   ],
   "source": [
    "evaluator_LR.evaluate(predictions, {evaluator_LR.metricName: \"r2\"})"
   ]
  },
  {
   "cell_type": "code",
   "execution_count": 35,
   "metadata": {},
   "outputs": [],
   "source": [
    "spark.stop()"
   ]
  }
 ],
 "metadata": {
  "kernelspec": {
   "display_name": "Python 3",
   "language": "python",
   "name": "python3"
  },
  "language_info": {
   "codemirror_mode": {
    "name": "ipython",
    "version": 3
   },
   "file_extension": ".py",
   "mimetype": "text/x-python",
   "name": "python",
   "nbconvert_exporter": "python",
   "pygments_lexer": "ipython3",
   "version": "3.7.6"
  }
 },
 "nbformat": 4,
 "nbformat_minor": 4
}
